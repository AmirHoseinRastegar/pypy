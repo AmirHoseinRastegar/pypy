{
 "cells": [
  {
   "cell_type": "code",
   "execution_count": 2,
   "id": "69438585",
   "metadata": {},
   "outputs": [],
   "source": [
    "import random\n",
    "\n",
    "def make_rand(start, end):\n",
    "    '''generates a random number between 2 certain numbers '''\n",
    "    return random.randint(start,end)"
   ]
  },
  {
   "cell_type": "code",
   "execution_count": null,
   "id": "51d01c81",
   "metadata": {},
   "outputs": [],
   "source": [
    "def validator(start,end):\n",
    "    while True:\n",
    "        user_input = input(f'please enter a number between {start} and {end}: ')\n",
    "        \n",
    "        if user_input.lower()=='q':\n",
    "            print('Have a nice Day')\n",
    "            break\n",
    "        \n",
    "        try:\n",
    "            user_input= int(user_input)\n",
    "            if user_input > end or user_input < start:\n",
    "                print('Invalid input number. it must be in range')\n",
    "            else :\n",
    "                return user_input\n",
    "        except ValueError:\n",
    "            print('invalid input format please enter a number')"
   ]
  },
  {
   "cell_type": "code",
   "execution_count": 4,
   "id": "aaba6649",
   "metadata": {},
   "outputs": [],
   "source": [
    "def hint_maker(user_guess, actual_number):\n",
    "    if user_guess < actual_number:\n",
    "        print('number is higher')\n",
    "    else:\n",
    "        print('number is lower')"
   ]
  },
  {
   "cell_type": "code",
   "execution_count": 9,
   "id": "ddd475d6",
   "metadata": {},
   "outputs": [
    {
     "name": "stdout",
     "output_type": "stream",
     "text": [
      "Have a nice Day\n"
     ]
    }
   ],
   "source": [
    "validator(1,100)"
   ]
  },
  {
   "cell_type": "code",
   "execution_count": 10,
   "id": "faff60e7",
   "metadata": {},
   "outputs": [],
   "source": [
    "class Score_calculator:\n",
    "    def __init__(self, starting_score=100):\n",
    "        self.score= starting_score\n",
    "        \n",
    "    def decrement_score(self,interval=10):\n",
    "        self.score -= interval\n",
    "        self.score = max(self.score,0)  \n",
    "    \n",
    "    def show_score(self):\n",
    "       return self.score       "
   ]
  }
 ],
 "metadata": {
  "kernelspec": {
   "display_name": "python_tutorial",
   "language": "python",
   "name": "python3"
  },
  "language_info": {
   "codemirror_mode": {
    "name": "ipython",
    "version": 3
   },
   "file_extension": ".py",
   "mimetype": "text/x-python",
   "name": "python",
   "nbconvert_exporter": "python",
   "pygments_lexer": "ipython3",
   "version": "3.13.5"
  }
 },
 "nbformat": 4,
 "nbformat_minor": 5
}
